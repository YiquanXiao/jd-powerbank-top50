{
 "cells": [
  {
   "cell_type": "markdown",
   "id": "17605f52",
   "metadata": {},
   "source": [
    "# 京东Top50充电宝商品&店铺分析"
   ]
  },
  {
   "cell_type": "code",
   "execution_count": null,
   "id": "6208f4da",
   "metadata": {},
   "outputs": [],
   "source": [
    "import pandas as pd\n",
    "from hanlp import HanLP\n",
    "from collections import Counter"
   ]
  },
  {
   "cell_type": "code",
   "execution_count": null,
   "id": "14ddd645",
   "metadata": {},
   "outputs": [],
   "source": [
    "# =============================\n",
    "# 1️ 读取 CSV\n",
    "# =============================\n",
    "df = pd.read_csv(\"jd_reviews_all.csv\")\n",
    "\n",
    "print(f\"读取完成：共有 {len(df)} 行\")\n",
    "\n",
    "# =============================\n",
    "# 2️ 加载轻量单任务分词模型\n",
    "# =============================\n",
    "tokenizer = HanLP.load('FINE_ELECTRA_SMALL_ZH')\n",
    "\n",
    "print(\"HanLP 分词模型加载完成：FINE_ELECTRA_SMALL_ZH\")\n",
    "\n",
    "# =============================\n",
    "# 3️ 所有差评分词汇总\n",
    "# =============================\n",
    "all_tokens = []\n",
    "\n",
    "for idx, row in df.iterrows():\n",
    "    for i in range(1, 6):\n",
    "        review = row.get(f'negative_review_{i}', '')\n",
    "        if isinstance(review, str) and review.strip():\n",
    "            tokens = tokenizer(review)\n",
    "            all_tokens.extend(tokens)\n",
    "\n",
    "print(f\"共分词数量：{len(all_tokens)}\")"
   ]
  },
  {
   "cell_type": "code",
   "execution_count": null,
   "id": "96286e36",
   "metadata": {},
   "outputs": [],
   "source": [
    "# =============================\n",
    "# 4️ 加载停用词表\n",
    "# =============================\n",
    "stopwords = set()\n",
    "with open('stopwords.txt', 'r', encoding='utf-8') as f:\n",
    "    stopwords = set(line.strip() for line in f if line.strip())\n",
    "\n",
    "print(f\"加载停用词表完成，共 {len(stopwords)} 个停用词\")\n",
    "\n",
    "# =============================\n",
    "# 5️ 去停用词 + 可选：去除单字词\n",
    "# =============================\n",
    "filtered_tokens = [w for w in all_tokens if w not in stopwords and len(w) > 1]\n",
    "\n",
    "print(f\"过滤后剩余词数：{len(filtered_tokens)}\")"
   ]
  },
  {
   "cell_type": "code",
   "execution_count": null,
   "id": "be5f3e1c",
   "metadata": {},
   "outputs": [],
   "source": [
    "# =============================\n",
    "# 6️ 统计词频\n",
    "# =============================\n",
    "freq = Counter(filtered_tokens)\n",
    "\n",
    "# 打印前 50 个高频词\n",
    "print(\"Top 50 高频词：\")\n",
    "for word, count in freq.most_common(50):\n",
    "    print(f\"{word}: {count}\")"
   ]
  },
  {
   "cell_type": "code",
   "execution_count": null,
   "id": "b8352f8a",
   "metadata": {},
   "outputs": [],
   "source": [
    "# =============================\n",
    "# 7️ 保存词频表到 CSV\n",
    "# =============================\n",
    "df_freq = pd.DataFrame(freq.most_common(), columns=[\"word\", \"count\"])\n",
    "df_freq.to_csv(\"word_frequency.csv\", index=False, encoding=\"utf-8-sig\")\n",
    "\n",
    "print(\"\\n已保存到 word_frequency.csv\")"
   ]
  }
 ],
 "metadata": {
  "kernelspec": {
   "display_name": "da-env",
   "language": "python",
   "name": "python3"
  },
  "language_info": {
   "name": "python",
   "version": "3.11.12"
  }
 },
 "nbformat": 4,
 "nbformat_minor": 5
}
